{
 "cells": [
  {
   "cell_type": "code",
   "execution_count": 7,
   "id": "fb16cd09-7d32-47c4-9525-528f18c8f723",
   "metadata": {},
   "outputs": [
    {
     "name": "stdout",
     "output_type": "stream",
     "text": [
      "Hello , This is first Project\n"
     ]
    }
   ],
   "source": [
    "print(\"Hello , This is first Project\")"
   ]
  },
  {
   "cell_type": "code",
   "execution_count": 8,
   "id": "45156b73-c667-4728-9c62-e5384c1ff0b6",
   "metadata": {},
   "outputs": [
    {
     "name": "stdout",
     "output_type": "stream",
     "text": [
      "Python project to create list , dictionary , set and perform basic operations like adding , removing and modifying elements\n"
     ]
    }
   ],
   "source": [
    "print(\"Python project to create list , dictionary , set and perform basic operations like adding , removing and modifying elements\")\n"
   ]
  },
  {
   "cell_type": "code",
   "execution_count": 10,
   "id": "264d3ce3-26a4-48dc-9018-1544fcef6d9b",
   "metadata": {},
   "outputs": [
    {
     "name": "stdout",
     "output_type": "stream",
     "text": [
      "MY LIST: [45000, 67000, 55000, 64000, 70000]\n"
     ]
    }
   ],
   "source": [
    "#Creating a LIST\n",
    "Income_1=45000\n",
    "Income_2=67000\n",
    "Income_3=55000\n",
    "Income_4=64000\n",
    "Income_5=70000\n",
    "INCOME=[Income_1,Income_2,Income_3,Income_4,Income_5]\n",
    "print(\"MY LIST:\",INCOME)"
   ]
  },
  {
   "cell_type": "code",
   "execution_count": 24,
   "id": "b683c38d-3f6b-44bf-822a-89582f7429b7",
   "metadata": {},
   "outputs": [
    {
     "name": "stdout",
     "output_type": "stream",
     "text": [
      "MY NEW LIST [45000, 67000, 55000, 64000, 70000, 39000]\n"
     ]
    }
   ],
   "source": [
    "#Adding Elements\n",
    "INCOME.append(39000)\n",
    "print(\"MY NEW LIST\",INCOME)"
   ]
  },
  {
   "cell_type": "code",
   "execution_count": 26,
   "id": "5352706b-c6ad-4aa7-97d1-a67682c7c174",
   "metadata": {},
   "outputs": [
    {
     "name": "stdout",
     "output_type": "stream",
     "text": [
      "MY NEW LIST : [45000, 67000, 64000, 70000, 39000]\n"
     ]
    }
   ],
   "source": [
    "#Removing Elements\n",
    "INCOME.remove(55000)\n",
    "print(\"MY NEW LIST :\",INCOME)\n"
   ]
  },
  {
   "cell_type": "code",
   "execution_count": 27,
   "id": "629236c5-1318-4252-bdf8-d784a0c52dc9",
   "metadata": {},
   "outputs": [
    {
     "name": "stdout",
     "output_type": "stream",
     "text": [
      "MY NEW LIST: [45000, 67000, 90000, 70000, 39000]\n"
     ]
    }
   ],
   "source": [
    "#Modifying Elements\n",
    "INCOME[2]=90000\n",
    "print(\"MY NEW LIST:\",INCOME)"
   ]
  },
  {
   "cell_type": "code",
   "execution_count": 29,
   "id": "f15fe2c7-8662-4e3b-8d72-6f4733ee165a",
   "metadata": {},
   "outputs": [
    {
     "name": "stdout",
     "output_type": "stream",
     "text": [
      "SLICING [90000, 70000]\n",
      "LENGTH OF LIST 5\n",
      "SORTED LIST [39000, 45000, 67000, 70000, 90000]\n"
     ]
    }
   ],
   "source": [
    "#Other Operations\n",
    "print(\"SLICING\",INCOME[2:4])\n",
    "print(\"LENGTH OF LIST\",len(INCOME))\n",
    "print(\"SORTED LIST\",sorted(INCOME))    "
   ]
  },
  {
   "cell_type": "code",
   "execution_count": 30,
   "id": "33a4e2f1-66b8-4927-bcd3-20d2bd7f10b8",
   "metadata": {},
   "outputs": [
    {
     "name": "stdout",
     "output_type": "stream",
     "text": [
      "MY DICTIONARY: {'A': 1, 'B': 5, 'C': 4}\n"
     ]
    }
   ],
   "source": [
    "#Creating a DICTIONARY\n",
    "MY_DICT={ 'A':1 ,'B':5 ,'C':4}\n",
    "print(\"MY DICTIONARY:\",MY_DICT)"
   ]
  },
  {
   "cell_type": "code",
   "execution_count": 31,
   "id": "6eb4e4a3-19b0-4498-a0f7-d4295db64ed4",
   "metadata": {},
   "outputs": [
    {
     "name": "stdout",
     "output_type": "stream",
     "text": [
      "UPDATED DICT {'A': 1, 'B': 5, 'C': 4, 'D': 7}\n"
     ]
    }
   ],
   "source": [
    "#Adding Elements\n",
    "MY_DICT[\"D\"]=7\n",
    "print(\"UPDATED DICT\",MY_DICT)"
   ]
  },
  {
   "cell_type": "code",
   "execution_count": 32,
   "id": "6788291c-691a-4732-83ed-fc5e0ce29d58",
   "metadata": {},
   "outputs": [
    {
     "name": "stdout",
     "output_type": "stream",
     "text": [
      "UPDATED LIST: {'A': 1, 'B': 5, 'D': 7}\n"
     ]
    }
   ],
   "source": [
    "#Removing Elements\n",
    "del MY_DICT[\"C\"]\n",
    "print(\"UPDATED LIST:\",MY_DICT)"
   ]
  },
  {
   "cell_type": "code",
   "execution_count": 33,
   "id": "c384bc28-76ea-4814-a7c5-ae7e06504147",
   "metadata": {},
   "outputs": [
    {
     "name": "stdout",
     "output_type": "stream",
     "text": [
      "UPDATED LIST : {'A': 1, 'B': 5, 'D': 9}\n"
     ]
    }
   ],
   "source": [
    "#Modifying Elements\n",
    "MY_DICT[\"D\"]=9\n",
    "print(\"UPDATED LIST :\",MY_DICT)"
   ]
  },
  {
   "cell_type": "code",
   "execution_count": 36,
   "id": "c687434a-70a1-40f7-9aff-c6cc250ec86a",
   "metadata": {},
   "outputs": [
    {
     "name": "stdout",
     "output_type": "stream",
     "text": [
      "KEYS: dict_keys(['A', 'B', 'D'])\n",
      "VALUES: dict_values([1, 5, 9])\n",
      "ITEMS: dict_items([('A', 1), ('B', 5), ('D', 9)])\n"
     ]
    }
   ],
   "source": [
    "#Other Operations\n",
    "print(\"KEYS:\",MY_DICT.keys())\n",
    "print(\"VALUES:\",MY_DICT.values())\n",
    "print(\"ITEMS:\",MY_DICT.items())"
   ]
  },
  {
   "cell_type": "code",
   "execution_count": 39,
   "id": "94f45d16-c1e5-47f6-9d21-18f09b1fd7af",
   "metadata": {},
   "outputs": [
    {
     "name": "stdout",
     "output_type": "stream",
     "text": [
      "MY_HOBBIES: {'Reading', 'Writing', 'Debugging', 'Coding'}\n"
     ]
    }
   ],
   "source": [
    "#Creating a SET\n",
    "HOBBIES={\"Reading\",\"Writing\",\"Coding\",\"Debugging\"}\n",
    "print(\"MY_HOBBIES:\", HOBBIES)"
   ]
  },
  {
   "cell_type": "code",
   "execution_count": 40,
   "id": "d7761ee6-f496-4a39-b3b7-a3aaaedd5286",
   "metadata": {},
   "outputs": [
    {
     "name": "stdout",
     "output_type": "stream",
     "text": [
      "UPDATED SET : {'Reading', 'Debugging', 'Coding', 'Writing', 'Cricket'}\n"
     ]
    }
   ],
   "source": [
    "#Adding Elements \n",
    "HOBBIES.add(\"Cricket\")\n",
    "print(\"UPDATED SET :\",HOBBIES)"
   ]
  },
  {
   "cell_type": "code",
   "execution_count": 41,
   "id": "8e7c24a7-0e9e-4664-8eec-58d3b9fe9bdf",
   "metadata": {},
   "outputs": [
    {
     "name": "stdout",
     "output_type": "stream",
     "text": [
      "UPDATED SET: {'Reading', 'Debugging', 'Coding', 'Cricket'}\n"
     ]
    }
   ],
   "source": [
    "#Removing Elements\n",
    "HOBBIES.remove(\"Writing\")\n",
    "print(\"UPDATED SET:\",HOBBIES)"
   ]
  },
  {
   "cell_type": "code",
   "execution_count": 47,
   "id": "7ebd516a-dce1-4cf5-b380-751cc93b8643",
   "metadata": {},
   "outputs": [
    {
     "name": "stdout",
     "output_type": "stream",
     "text": [
      "UNION OF SETS = {'Reading', 'Singing', 'Coding', 'Cooking', 'Debugging', 'Cricket'}\n",
      "INTERSECTION OF SETS: {'Coding'}\n"
     ]
    }
   ],
   "source": [
    "#Modifying Elements\n",
    "NEW_HOBBIES={'Cooking','Singing','Coding'}\n",
    "print(\"UNION OF SETS =\",HOBBIES.union(NEW_HOBBIES))\n",
    "print(\"INTERSECTION OF SETS:\",HOBBIES.intersection(NEW_HOBBIES))"
   ]
  },
  {
   "cell_type": "code",
   "execution_count": null,
   "id": "3b070701-a268-44df-90bc-984b789a97ea",
   "metadata": {},
   "outputs": [],
   "source": []
  }
 ],
 "metadata": {
  "kernelspec": {
   "display_name": "Python 3 (ipykernel)",
   "language": "python",
   "name": "python3"
  },
  "language_info": {
   "codemirror_mode": {
    "name": "ipython",
    "version": 3
   },
   "file_extension": ".py",
   "mimetype": "text/x-python",
   "name": "python",
   "nbconvert_exporter": "python",
   "pygments_lexer": "ipython3",
   "version": "3.12.7"
  }
 },
 "nbformat": 4,
 "nbformat_minor": 5
}
